{
  "nbformat": 4,
  "nbformat_minor": 0,
  "metadata": {
    "colab": {
      "provenance": [],
      "include_colab_link": true
    },
    "kernelspec": {
      "name": "python3",
      "display_name": "Python 3"
    },
    "language_info": {
      "name": "python"
    }
  },
  "cells": [
    {
      "cell_type": "markdown",
      "metadata": {
        "id": "view-in-github",
        "colab_type": "text"
      },
      "source": [
        "<a href=\"https://colab.research.google.com/github/yonig15/101-LINQ-Samples-yoni/blob/main/Copy_of_%D7%A9%D7%99%D7%A2%D7%95%D7%A8_1.ipynb\" target=\"_parent\"><img src=\"https://colab.research.google.com/assets/colab-badge.svg\" alt=\"Open In Colab\"/></a>"
      ]
    },
    {
      "cell_type": "code",
      "source": [
        "1+1"
      ],
      "metadata": {
        "id": "z_FQSw906BG7"
      },
      "execution_count": null,
      "outputs": []
    },
    {
      "cell_type": "markdown",
      "source": [],
      "metadata": {
        "id": "jlv4U83TlSVx"
      }
    },
    {
      "cell_type": "code",
      "source": [],
      "metadata": {
        "id": "F_OcJ2xklSAq"
      },
      "execution_count": null,
      "outputs": []
    },
    {
      "cell_type": "markdown",
      "source": [
        "<div dir=\"rtl\">\n",
        "מה עושה הקוד הבא?\n",
        "</div>"
      ],
      "metadata": {
        "id": "stCniDrR3mWG"
      }
    },
    {
      "cell_type": "code",
      "source": [
        "for name in ['harry', 'hermione', 'ron']:\n",
        "   print('hello ' + name)"
      ],
      "metadata": {
        "id": "TKJsjfvl34nY"
      },
      "execution_count": null,
      "outputs": []
    },
    {
      "cell_type": "markdown",
      "source": [
        "<div dir=\"rtl\">\n",
        "הדפסה למסך\n",
        "</div>"
      ],
      "metadata": {
        "id": "Sn0_zvMO36qu"
      }
    },
    {
      "cell_type": "code",
      "source": [
        "print('I am cool')"
      ],
      "metadata": {
        "id": "lA5XZwz65JVW"
      },
      "execution_count": null,
      "outputs": []
    },
    {
      "cell_type": "code",
      "source": [],
      "metadata": {
        "id": "onVXa4G1lUlF"
      },
      "execution_count": null,
      "outputs": []
    },
    {
      "cell_type": "code",
      "source": [
        "print('Hello world')"
      ],
      "metadata": {
        "id": "CCAlNcRY5Qq4"
      },
      "execution_count": null,
      "outputs": []
    },
    {
      "cell_type": "code",
      "source": [
        "print(\"Hello world\")"
      ],
      "metadata": {
        "id": "HF_Ampzx5Scn"
      },
      "execution_count": null,
      "outputs": []
    },
    {
      "cell_type": "markdown",
      "source": [
        "<div dir=\"rtl\">\n",
        "מחרוזת\n",
        "</div>"
      ],
      "metadata": {
        "id": "g4nCZx4F3LTJ"
      }
    },
    {
      "cell_type": "code",
      "source": [
        "'1'"
      ],
      "metadata": {
        "id": "HELvLoS1-jLg"
      },
      "execution_count": null,
      "outputs": []
    },
    {
      "cell_type": "code",
      "execution_count": null,
      "metadata": {
        "id": "NLWorhnK2WE3"
      },
      "outputs": [],
      "source": [
        "'987' + '654'"
      ]
    },
    {
      "cell_type": "code",
      "source": [
        "'987' * 3"
      ],
      "metadata": {
        "id": "BPxliGPa6F08"
      },
      "execution_count": null,
      "outputs": []
    },
    {
      "cell_type": "code",
      "source": [
        "987*3"
      ],
      "metadata": {
        "id": "8J41Ife_awJz"
      },
      "execution_count": null,
      "outputs": []
    },
    {
      "cell_type": "code",
      "source": [
        "987 + 987"
      ],
      "metadata": {
        "id": "zWy8zSja6JHr"
      },
      "execution_count": null,
      "outputs": []
    },
    {
      "cell_type": "markdown",
      "source": [
        "<div dir=\"rtl\">\n",
        "משתנים\n",
        "</div>"
      ],
      "metadata": {
        "id": "cuPScg-U630G"
      }
    },
    {
      "cell_type": "code",
      "source": [
        "x = 42\n",
        "y = x # 42 -> y = 42\n",
        "x = 8 \n",
        "# x = 8, y = 42\n",
        "x = y # 42 -> x = 42\n",
        "print(y)\n",
        "print(x)\n"
      ],
      "metadata": {
        "id": "qA_ZgSjT6yVa"
      },
      "execution_count": null,
      "outputs": []
    },
    {
      "cell_type": "code",
      "source": [
        "print(y)\n",
        "print(x)"
      ],
      "metadata": {
        "id": "NSX9EjWp62ix"
      },
      "execution_count": null,
      "outputs": []
    },
    {
      "cell_type": "markdown",
      "source": [
        "<div dir=\"rtl\">\n",
        "קריאת מידע מהמשתמש\n",
        "</div>"
      ],
      "metadata": {
        "id": "4HfgOOzRDvVu"
      }
    },
    {
      "cell_type": "code",
      "source": [
        "print(\"What's your name?\")\n",
        "your_name = input()\n",
        "print(\"Hi \" + your_name)"
      ],
      "metadata": {
        "id": "xJWRWdHfDvtd"
      },
      "execution_count": null,
      "outputs": []
    },
    {
      "cell_type": "code",
      "source": [
        "print(f\"Hi {your_name}\")"
      ],
      "metadata": {
        "id": "7pwSwSkBD-Wq"
      },
      "execution_count": null,
      "outputs": []
    },
    {
      "cell_type": "markdown",
      "source": [
        "<div dir=\"rtl\">\n",
        "סוגי נתונים\n",
        "</div>"
      ],
      "metadata": {
        "id": "nDp7kw05EDM4"
      }
    },
    {
      "cell_type": "code",
      "source": [
        "print('Enter the number 123:')\n",
        "x = input() # כשהתוכנית מבקשת קלט, תקלידו את המספר שהיא ביקשה\n",
        "\n",
        "print(x + '1')"
      ],
      "metadata": {
        "id": "d3wV5JKPEDpO"
      },
      "execution_count": null,
      "outputs": []
    },
    {
      "cell_type": "code",
      "source": [
        "print(x + 1)"
      ],
      "metadata": {
        "id": "IWFCjyb8EFrS"
      },
      "execution_count": null,
      "outputs": []
    },
    {
      "cell_type": "code",
      "source": [
        "print('Enter the number 123:')\n",
        "x = input()\n",
        "\n",
        "print(x + '1')\n",
        "print(int(x) + 1)\n",
        "# print(int(x + '1') + 1)\n",
        "# print(int(x) + 1 + 235)\n",
        "# '123' + '1' -> '1231' -> int('1231')-> 1231 + 1 ->1232-> print(1232)"
      ],
      "metadata": {
        "id": "1w9VMFdzEY21"
      },
      "execution_count": null,
      "outputs": []
    },
    {
      "cell_type": "code",
      "source": [
        "print(int(3.14))"
      ],
      "metadata": {
        "id": "nNmkGWj5sLEk"
      },
      "execution_count": null,
      "outputs": []
    },
    {
      "cell_type": "code",
      "source": [
        "x = float(3)\n",
        "print(type(x), x)"
      ],
      "metadata": {
        "id": "-0qXwHlCNiaw"
      },
      "execution_count": null,
      "outputs": []
    },
    {
      "cell_type": "code",
      "source": [
        "print(int(5.5))"
      ],
      "metadata": {
        "id": "z03xO4kIEfTx"
      },
      "execution_count": null,
      "outputs": []
    },
    {
      "cell_type": "code",
      "source": [
        "int(float('2.5'))"
      ],
      "metadata": {
        "id": "IguOgPRyhRfB"
      },
      "execution_count": null,
      "outputs": []
    },
    {
      "cell_type": "code",
      "source": [
        "print(float('2.5') + 1)"
      ],
      "metadata": {
        "id": "ZV4ODEn7EhDH"
      },
      "execution_count": null,
      "outputs": []
    },
    {
      "cell_type": "code",
      "source": [
        "print(str(1.5) + ' + ' + str(1) + ' = a.5')"
      ],
      "metadata": {
        "id": "Jdn_YE8cEjFY"
      },
      "execution_count": null,
      "outputs": []
    },
    {
      "cell_type": "markdown",
      "source": [
        "<div dir=\"rtl\">\n",
        "תכנית המתכון שלנו\n",
        "</div>"
      ],
      "metadata": {
        "id": "ykRGWmVKEps3"
      }
    },
    {
      "cell_type": "code",
      "source": [
        "print(\"How many cakes do you want to make?\")\n",
        "n_cakes = int(input())\n",
        "water_cups = 2 * n_cakes\n",
        "sugar_cups = 3 * n_cakes\n",
        "eggs = 4 * n_cakes\n",
        "print(f'\\nWater cups: {water_cups} \\nSugar cups: {sugar_cups} \\nEggs: {eggs}')\n"
      ],
      "metadata": {
        "id": "DoXM9bsCEqPB"
      },
      "execution_count": null,
      "outputs": []
    },
    {
      "cell_type": "markdown",
      "source": [
        "<div dir=\"rtl\">\n",
        "סדר פעולות\n",
        "</div>"
      ],
      "metadata": {
        "id": "hj15dHNJFPTL"
      }
    },
    {
      "cell_type": "code",
      "source": [
        "A = 5\n",
        "B = 0.5\n",
        "print(A - B)\n",
        "print(A - B * 2)\n",
        "print((A - B) * 2)"
      ],
      "metadata": {
        "id": "8wxyEnv2FOG-"
      },
      "execution_count": null,
      "outputs": []
    },
    {
      "cell_type": "markdown",
      "source": [
        "<div dir=\"rtl\">\n",
        "חילוק שלמים\n",
        "</div>"
      ],
      "metadata": {
        "id": "J17w-0KYGKJv"
      }
    },
    {
      "cell_type": "code",
      "source": [
        "7 / 2"
      ],
      "metadata": {
        "id": "203dEETmGOkb"
      },
      "execution_count": null,
      "outputs": []
    },
    {
      "cell_type": "code",
      "source": [
        "7 // 2"
      ],
      "metadata": {
        "id": "3dg46It7GQ9f"
      },
      "execution_count": null,
      "outputs": []
    },
    {
      "cell_type": "code",
      "source": [
        "7 % 2"
      ],
      "metadata": {
        "id": "4Kabgf2uGWDQ"
      },
      "execution_count": null,
      "outputs": []
    },
    {
      "cell_type": "code",
      "source": [
        "-7 / 2"
      ],
      "metadata": {
        "id": "6dGWsu57Gc-W"
      },
      "execution_count": null,
      "outputs": []
    },
    {
      "cell_type": "code",
      "source": [
        "-7 // 2"
      ],
      "metadata": {
        "id": "fkYRqPQWGfNq"
      },
      "execution_count": null,
      "outputs": []
    },
    {
      "cell_type": "markdown",
      "source": [
        "<div dir=\"rtl\">\n",
        "בדיקת זוגיות\n",
        "</div>"
      ],
      "metadata": {
        "id": "xZ1QvOztGNLA"
      }
    },
    {
      "cell_type": "code",
      "source": [
        "7 % 2"
      ],
      "metadata": {
        "id": "ZMjneUhdGx6p"
      },
      "execution_count": null,
      "outputs": []
    },
    {
      "cell_type": "code",
      "source": [
        "8 % 2"
      ],
      "metadata": {
        "id": "Dqnn9yU-G00_"
      },
      "execution_count": null,
      "outputs": []
    },
    {
      "cell_type": "markdown",
      "source": [
        "<div dir=\"rtl\">\n",
        "מעבר על ספרות\n",
        "</div>"
      ],
      "metadata": {
        "id": "3FtnVSXEGsZ9"
      }
    },
    {
      "cell_type": "code",
      "source": [
        "x = 27495 \n",
        "y = x // 10\n",
        "z = x % 10\n",
        "print(y)\n",
        "print(z)"
      ],
      "metadata": {
        "id": "ipAtlOrnG689",
        "colab": {
          "base_uri": "https://localhost:8080/"
        },
        "outputId": "abac5439-8192-4fd2-9f54-d1719b70284a"
      },
      "execution_count": null,
      "outputs": [
        {
          "output_type": "stream",
          "name": "stdout",
          "text": [
            "2749\n",
            "5\n"
          ]
        }
      ]
    },
    {
      "cell_type": "code",
      "source": [
        "27495 % 10"
      ],
      "metadata": {
        "id": "6JJqSpy5G-8U"
      },
      "execution_count": null,
      "outputs": []
    }
  ]
}